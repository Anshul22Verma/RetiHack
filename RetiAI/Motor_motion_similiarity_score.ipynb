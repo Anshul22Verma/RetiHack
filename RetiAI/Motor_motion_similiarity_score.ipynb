{
  "nbformat": 4,
  "nbformat_minor": 5,
  "metadata": {
    "kernelspec": {
      "display_name": "Python 3",
      "language": "python",
      "name": "python3"
    },
    "language_info": {
      "codemirror_mode": {
        "name": "ipython",
        "version": 3
      },
      "file_extension": ".py",
      "mimetype": "text/x-python",
      "name": "python",
      "nbconvert_exporter": "python",
      "pygments_lexer": "ipython3",
      "version": "3.9.2"
    },
    "colab": {
      "name": "Motor_motion_similiarity_score.ipynb",
      "provenance": []
    }
  },
  "cells": [
    {
      "cell_type": "markdown",
      "metadata": {
        "id": "7c9a15f9"
      },
      "source": [
        "Will use **MNIST** dataset to train the encoder to learn a model extracting features like lines and curves from an image. Then will use the similarity between the encoded feature of the **given image** and  the **drawn and submitted image** via the application again will contribute to the MMSE score of a patient in the application."
      ],
      "id": "7c9a15f9"
    },
    {
      "cell_type": "code",
      "metadata": {
        "id": "3c41a999"
      },
      "source": [
        "import os\n",
        "import cv2\n",
        "import numpy as np\n",
        "import pandas as pd\n",
        "\n",
        "# Visualization modules\n",
        "import matplotlib.pyplot as plt\n",
        "import seaborn as sns\n",
        "\n",
        "# Tensorflow modules\n",
        "import tensorflow as tf\n",
        "from tensorflow.keras.layers import Input, Dense, Dropout, Conv2D, MaxPool2D, Flatten, Activation\n",
        "from tensorflow.keras.models import Sequential\n",
        "from tensorflow.keras.optimizers import Adam, SGD\n",
        "from tensorflow.keras.preprocessing.image import ImageDataGenerator\n",
        "from tensorflow.keras.callbacks import EarlyStopping, ModelCheckpoint, ReduceLROnPlateau\n",
        "from tensorflow.keras.losses import CategoricalCrossentropy\n",
        "from tensorflow.keras.models import Model\n",
        "from tensorflow.keras.optimizers import SGD\n",
        "\n",
        "# Scikit-learn functions\n",
        "from sklearn.metrics import confusion_matrix, roc_auc_score, roc_curve\n",
        "from sklearn.model_selection import train_test_split"
      ],
      "id": "3c41a999",
      "execution_count": 12,
      "outputs": []
    },
    {
      "cell_type": "code",
      "metadata": {
        "id": "1c8a5c3c"
      },
      "source": [
        "class MIDAS_CNN:\n",
        "    def __init__(self):\n",
        "        self.model = None\n",
        "\n",
        "    # A function to define and compile the CNN\n",
        "    def compile_CNN(self, MODEL_INPUT_SIZE, N_CLASSES, INITIAL_LR,\n",
        "                    MOMENTUM=0.9, label_smoothing=0.1, og_model=None):\n",
        "        '''\n",
        "            MODEL_INPUT_SIZE: (CNN)model input size\n",
        "            N_CLASSES: number of classes in the final layer\n",
        "            INITIAL_LR: initial learning rate of the optimizer (optional)\n",
        "            MOMENTUM: momentum of the SGD optimizer (optional)\n",
        "            label_smoothing: learning rate of the optimizer (optional)\n",
        "            og_model: original model to transfer learn from (optional)\n",
        "        '''\n",
        "        try:\n",
        "            self.MODEL_INPUT_SIZE = MODEL_INPUT_SIZE\n",
        "            self.N_CLASSES = N_CLASSES\n",
        "            self.INITIAL_LR = INITIAL_LR\n",
        "\n",
        "            if og_model is None:\n",
        "                # Defining the model\n",
        "                self.model = Sequential()  # add model layers\n",
        "                # Layer 1\n",
        "                self.model.add(Conv2D(8, (3, 3), input_shape=self.MODEL_INPUT_SIZE))\n",
        "                # define the activaion function for this layer\n",
        "                self.model.add(Activation('relu'))\n",
        "                # define the pooling for this layer\n",
        "                self.model.add(MaxPool2D(pool_size=(2, 2)))\n",
        "\n",
        "                # Layer 2\n",
        "                self.model.add(Conv2D(16, (3, 3)))\n",
        "                # define the activaion function for this layer\n",
        "                self.model.add(Activation('relu'))\n",
        "                # define the pooling for this layer\n",
        "                self.model.add(MaxPool2D(pool_size=(5, 5)))\n",
        "\n",
        "                # Flattening\n",
        "                self.model.add(Flatten())\n",
        "                # Dropout\n",
        "                self.model.add(Dropout(0.5, name='final_dropout'))  # - for regularization\n",
        "\n",
        "                # Final output layer\n",
        "                self.model.add(Dense(N_CLASSES, activation='softmax',\n",
        "                                     name='classification', dtype='float32'))\n",
        "                self.model.compile(optimizer=SGD(learning_rate=INITIAL_LR,\n",
        "                                                 momentum=MOMENTUM, nesterov=True),\n",
        "                                   loss=CategoricalCrossentropy(label_smoothing=label_smoothing),\n",
        "                                   metrics=['accuracy'])\n",
        "                self.model.summary()\n",
        "                return None\n",
        "            else:\n",
        "                og_model.layers.pop()\n",
        "                outputs = Dense(N_CLASSES, activation=\"softmax\",\n",
        "                                name=\"classification\", dtype='float32')(og_model.layers[-2].output)\n",
        "                self.model = Model(inputs=og_model.inputs, outputs=outputs)\n",
        "                print('Original Model Transformed successfully')\n",
        "                self.model.compile(optimizer=SGD(learning_rate=INITIAL_LR,\n",
        "                                                 momentum=MOMENTUM, nesterov=True),\n",
        "                                   loss=CategoricalCrossentropy(label_smoothing=label_smoothing),\n",
        "                                   metrics=['accuracy'])\n",
        "                self.model.summary()\n",
        "                return None\n",
        "        except:\n",
        "            print('Error in compiling the CNN')\n",
        "            return None\n",
        "\n",
        "    # A function to define the data-generators\n",
        "    def define_generators(self, BATCH_SIZE, df, x_col='imgs', y_col='label',\n",
        "                          stratify=True, VALIDATION_SPLIT=0.1):\n",
        "        '''\n",
        "             BATCH_SIZE: batch size of the generators\n",
        "             df: dataframw with all the images and labels\n",
        "             x_col: name of the column with image name (optional)\n",
        "             y_col: name of the column with the image label (optional)\n",
        "             stratify: to make a stratified split (optional)\n",
        "             VALIDATION_SPLIT: percentage of data to be used for validation (optinal)\n",
        "        '''\n",
        "        try:\n",
        "            self.BATCH_SIZE = BATCH_SIZE\n",
        "            self.INPUT_SIZE = self.MODEL_INPUT_SIZE[:2]\n",
        "\n",
        "            if stratify:\n",
        "\n",
        "                df_train, df_validation = train_test_split(df, test_size=VALIDATION_SPLIT, random_state=2021,\n",
        "                                                           stratify=df[y_col].values.tolist())\n",
        "            else:\n",
        "                df_train, df_validation = train_test_split(df, test_size=VALIDATION_SPLIT, random_state=2021)\n",
        "            # Setting a seed to get the same split everytime\n",
        "\n",
        "            # Augmenting the train generator\n",
        "            data_generator = ImageDataGenerator(\n",
        "                rotation_range=10,  # in degrees\n",
        "                width_shift_range=0.05,  # <1 shift left or right\n",
        "                height_shift_range=0.05,  # <1 shift up or down\n",
        "                zoom_range=[0.9, 1.1],  # zooming range\n",
        "                rescale=1. / 255,  # rescale the images to be float in range [0, 1]\n",
        "            )\n",
        "\n",
        "            self.train_generator = data_generator.flow_from_dataframe(\n",
        "                dataframe=df_train,\n",
        "                x_col=x_col,  # column with image path\n",
        "                y_col=y_col,  # column with label\n",
        "                target_size=self.INPUT_SIZE,\n",
        "                batch_size=self.BATCH_SIZE,\n",
        "                color_mode='grayscale',\n",
        "                class_mode='categorical',\n",
        "                shuffle=True,\n",
        "                seed=2021,  # seeting the seed for shuffling and transformation\n",
        "            )\n",
        "\n",
        "            # Not augmenting the validation generator\n",
        "            data_generator = ImageDataGenerator(\n",
        "                rescale=1. / 255,  # rescale the images to be float in range [0, 1]\n",
        "            )\n",
        "\n",
        "            self.validation_generator = data_generator.flow_from_dataframe(\n",
        "                dataframe=df_validation,\n",
        "                x_col=x_col,  # column with image path\n",
        "                y_col=y_col,  # column with label\n",
        "                target_size=self.INPUT_SIZE,\n",
        "                batch_size=self.BATCH_SIZE,\n",
        "                color_mode='grayscale',\n",
        "                class_mode='categorical',\n",
        "                shuffle=False,\n",
        "            )\n",
        "            return None\n",
        "        except:\n",
        "            print('Error in defining generators')\n",
        "            return None\n",
        "\n",
        "    # A function to define the callbacks\n",
        "    def define_callbacks(self, ES_PATIENCE, LR_PATIENCE, MODEL_WTS_FILE_NAME,\n",
        "                         LR_REDUCTION_FACTOR=0.2, MODEL_LOC='./models'):\n",
        "        '''\n",
        "            ES_PATIENCE: patience for early stopping\n",
        "            LR_PATIENCE: patience to reduce learning-rate\n",
        "            MODEL_WTS_FILE_NAME: weights .h5 filename\n",
        "            LR_REDUCTION_FACTOR: factor to reduce the learning rate by (optinal)\n",
        "            MODEL_LOC: location to save models in (optional)\n",
        "        '''\n",
        "        try:\n",
        "            if not os.path.exists(MODEL_LOC):\n",
        "                os.mkdir(MODEL_LOC)\n",
        "            # Defining callbacks\n",
        "            self.MODEL_LOC = MODEL_LOC\n",
        "            self.MODEL_WTS_FILE_NAME = MODEL_WTS_FILE_NAME\n",
        "            es_callback = EarlyStopping(\n",
        "                monitor='val_accuracy',\n",
        "                patience=ES_PATIENCE,\n",
        "                mode='max'\n",
        "            )  # only stopping if model's validation accuracy has saturated/peaked\n",
        "\n",
        "            reduce_lr_callback = ReduceLROnPlateau(\n",
        "                monitor='val_loss',\n",
        "                patience=LR_PATIENCE, verbose=1,\n",
        "                factor=LR_REDUCTION_FACTOR\n",
        "            )  # reducing learning rate if validation loss doesn't deacrease\n",
        "\n",
        "            mc_callback = ModelCheckpoint(\n",
        "                filepath=os.path.join(self.MODEL_LOC, self.MODEL_WTS_FILE_NAME),\n",
        "                monitor='val_accuracy',\n",
        "                save_best_only=True,\n",
        "                mode='max'\n",
        "            )  # saving the best model based on accuracy on validation dataset\n",
        "\n",
        "            # Defining callbacks for saving model checkpoints and early stopping\n",
        "            self.callbacks = [es_callback, mc_callback, reduce_lr_callback]\n",
        "            return None\n",
        "        except:\n",
        "            print('Error in defining callbacks')\n",
        "            return None\n",
        "\n",
        "    # A function to train the defined model\n",
        "    def train(self, EPOCHS=100):\n",
        "        '''\n",
        "            EPOCHS: epochs to train the model for\n",
        "        '''\n",
        "        try:\n",
        "            self.train_history = self.model.fit(\n",
        "                self.train_generator,\n",
        "                steps_per_epoch=self.train_generator.samples // self.BATCH_SIZE,\n",
        "                validation_data=self.validation_generator,\n",
        "                validation_steps=self.validation_generator.samples // self.BATCH_SIZE,\n",
        "                epochs=EPOCHS, verbose=1, callbacks=self.callbacks\n",
        "            )\n",
        "            return None\n",
        "        except:\n",
        "            print('Error in training model')\n",
        "            return None\n",
        "\n",
        "    # A function to train given X and Y for MNIST\n",
        "    def train_x_y(self, x_train, y_train,\n",
        "                  BATCH_SIZE, EPOCHS, VALIDATION_SPLIT):\n",
        "        '''\n",
        "            x_train: training data\n",
        "            y_train: testing data\n",
        "            BATCH_SIZE: batch size for training and validation\n",
        "            EPOCHS: epochs for training\n",
        "            VALIDATION_SPLIT: percentage of data to be used for validation\n",
        "        '''\n",
        "        try:\n",
        "            self.BATCH_SIZE = BATCH_SIZE\n",
        "            self.train_history = self.model.fit(\n",
        "                x_train, y_train,\n",
        "                batch_size=self.BATCH_SIZE,\n",
        "                epochs=EPOCHS,\n",
        "                validation_split=VALIDATION_SPLIT,\n",
        "                callbacks=self.callbacks\n",
        "            )\n",
        "            return None\n",
        "        except:\n",
        "            print('Error in training model')\n",
        "            return None\n",
        "\n",
        "    # A function to plot training history\n",
        "    def training_history(self, title='training history'):\n",
        "        '''\n",
        "            title: title of the plot (optional)\n",
        "        '''\n",
        "        try:\n",
        "            fig = plt.figure(1, figsize=(15, 7))\n",
        "            axes = fig.add_subplot(1, 2, 1)\n",
        "            axes.plot(self.train_history.history['accuracy'], color='C0')\n",
        "            axes.plot(self.train_history.history['val_accuracy'], color='C1')\n",
        "            axes.set(xlabel='Epochs', ylabel='Accuracy', title='Model Accuracy')\n",
        "            axes.legend(['train accuracy', 'validation accuracy'])\n",
        "\n",
        "            axes = fig.add_subplot(1, 2, 2)\n",
        "            axes.plot(self.train_history.history['loss'], color='C0')\n",
        "            axes.plot(self.train_history.history['val_loss'], color='C1')\n",
        "            axes.set(xlabel='Epochs', ylabel='Loss', title='Model Loss')\n",
        "            axes.legend(['train loss', 'validation loss'])\n",
        "            plt.suptitle('MIDAS CNN - OG(scratch) training history')\n",
        "            plt.show()\n",
        "            return None\n",
        "        except:\n",
        "            print('Error in plotting history of the model')\n",
        "            return None\n",
        "\n",
        "    # A function plot confusion matrix\n",
        "    def analyze_model(self, figsize=(10, 7)):\n",
        "        '''\n",
        "            figuresize: size of plot (optional)\n",
        "        '''\n",
        "        try:\n",
        "            probabilities = self.model.predict(self.validation_generator, len(self.validation_generator))\n",
        "            prediction_label = np.argmax(probabilities, axis=1)\n",
        "            val_labels = self.validation_generator.classes\n",
        "\n",
        "            print('Class labels')\n",
        "            print(self.validation_generator.class_indices)\n",
        "            print('\\n')\n",
        "\n",
        "            print('Class distribution in validation set')\n",
        "            n_class, n_count = np.unique(val_labels, return_counts=True)\n",
        "            count_dict = {}\n",
        "            for n_class_, n_count_ in zip(n_class, n_count):\n",
        "                count_dict[n_class_] = n_count_\n",
        "            print(f'{count_dict}')\n",
        "            print('\\n')\n",
        "\n",
        "            classes = self.validation_generator.class_indices.keys()\n",
        "            # Plotting confusion matrix\n",
        "            cm = confusion_matrix(prediction_label, val_labels)\n",
        "            df_cm = pd.DataFrame(cm, index=[i for i in classes], columns=[i for i in classes])\n",
        "            fig, ax = plt.subplots(figsize=figsize)  # Sample figsize in inches\n",
        "            sns.heatmap(df_cm, annot=True, ax=ax)\n",
        "            plt.xlabel('True Labels')\n",
        "            plt.ylabel('Predicted Labels')\n",
        "            plt.title('Validation Confusion Matrix')\n",
        "            acc = ((prediction_label == val_labels).sum()) / len(val_labels) * 100\n",
        "            print('Validation Accuracy of the model is %.2f%%' % (acc))\n",
        "            plt.show()\n",
        "            return None\n",
        "        except:\n",
        "            print('Error in analyzing the model')\n",
        "            return None\n",
        "\n",
        "    # A function to make test prediction and plot confusion matrix\n",
        "    def analyse_x_y(self, x_test, y_test, figsize=(10, 7)):\n",
        "        '''\n",
        "            x_test: test data\n",
        "            y_test: test label\n",
        "            figsize: size of the plot (optional)\n",
        "        '''\n",
        "        try:\n",
        "            probabilities = self.model.predict(x_test)\n",
        "            prediction_label = np.argmax(probabilities, axis=1)\n",
        "            val_labels = np.argmax(y_test, axis=1)\n",
        "\n",
        "            print('Class distribution in MNIST test set')\n",
        "            n_class, n_count = np.unique(val_labels, return_counts=True)\n",
        "            count_dict = {}\n",
        "            for n_class_, n_count_ in zip(n_class, n_count):\n",
        "                count_dict[n_class_] = n_count_\n",
        "            print(f'{count_dict}')\n",
        "            print('\\n')\n",
        "\n",
        "            classes = np.unique(val_labels)\n",
        "            classes.sort()\n",
        "            # Plotting confusion matrix\n",
        "            cm = confusion_matrix(prediction_label, val_labels)\n",
        "            df_cm = pd.DataFrame(cm, index=[i for i in classes], columns=[i for i in classes])\n",
        "            fig, ax = plt.subplots(figsize=figsize)  # Sample figsize in inches\n",
        "            sns.heatmap(df_cm, annot=True, ax=ax)\n",
        "            plt.xlabel('True Labels')\n",
        "            plt.ylabel('Predicted Labels')\n",
        "            plt.title('Test Confusion Matrix')\n",
        "            acc = ((prediction_label == val_labels).sum()) / len(val_labels) * 100\n",
        "            print('Test Accuracy of the model is %.2f%%' % (acc))\n",
        "            plt.show()\n",
        "        except:\n",
        "            print('Error in analyzing the model')\n",
        "            return None\n",
        "\n",
        "    # A function to return the trained model\n",
        "    def return_model(self):\n",
        "        return self.model\n",
        "\n",
        "    # A function to return training history\n",
        "    def return_training_history(self):\n",
        "        return self.train_history\n",
        "\n",
        "    # A function to load the trained model\n",
        "    def load_model(self, model_loc=None):\n",
        "        '''\n",
        "            model_loc: location of the .h5 file to load weights from\n",
        "        '''\n",
        "        try:\n",
        "            if model_loc is not None:\n",
        "                self.model.load_weights(model_loc)\n",
        "            else:\n",
        "                self.model.load_weights(os.path.join(self.MODEL_LOC, self.MODEL_WTS_FILE_NAME))\n",
        "            return None\n",
        "        except:\n",
        "            print('Error in loading weights for the model')\n",
        "            return None\n",
        "\n",
        "    # A function to make prediction\n",
        "    def predict_img(self, img_loc):\n",
        "        '''\n",
        "        INPUT ->\n",
        "            img_loc: Takes in location of an image\n",
        "        OUTPUT ->\n",
        "            prediction-probabilit, prediction-label\n",
        "        '''\n",
        "        self.img_sz = self.MODEL_INPUT_SIZE[0]\n",
        "        try:\n",
        "            if os.path.exists(img_loc):\n",
        "                try:\n",
        "                    img = cv2.imread(img_loc, cv2.IMREAD_GRAYSCALE)\n",
        "                    # rescaling image\n",
        "                    img = cv2.resize(img, dsize=(self.img_sz, self.img_sz),\n",
        "                                     interpolation=cv2.INTER_AREA)\n",
        "                    plt.imshow(img)\n",
        "                    img = img / 255\n",
        "                    img = img.reshape(1, self.img_sz, self.img_sz, 1)\n",
        "                except:\n",
        "                    print('Unable to load image')\n",
        "                    return None, None\n",
        "                # load the model before calling this function\n",
        "\n",
        "                print(np.shape(img))\n",
        "                prediction_prob = self.model.predict(img)\n",
        "                prediction_label = np.argmax(prediction_prob, axis=1)\n",
        "                return prediction_prob[0], prediction_label[0]\n",
        "            else:\n",
        "                print(f'No image found with path {img_loc}.')\n",
        "                return None, None\n",
        "        except:\n",
        "            print('Error in predicting for an image')\n",
        "            return None, None\n",
        "\n",
        "    # A function to define a batch for data-format\n",
        "    # similar to the training data for testing\n",
        "    def test_format1(self, test_data_loc, BATCH_SIZE=16):\n",
        "        self.BATCH_SIZE = BATCH_SIZE\n",
        "        self.INPUT_SIZE = self.MODEL_INPUT_SIZE[:2]\n",
        "        # Not augmenting the test generator\n",
        "        data_generator = ImageDataGenerator(\n",
        "            rescale=1. / 255,  # rescale the images to be float in range [0, 1]\n",
        "        )\n",
        "        test_generator = data_generator.flow_from_directory(\n",
        "            directory=test_data_loc,\n",
        "            target_size=self.INPUT_SIZE,\n",
        "            batch_size=self.BATCH_SIZE,\n",
        "            color_mode='grayscale',\n",
        "            class_mode='categorical',\n",
        "            shuffle=False,\n",
        "        )\n",
        "\n",
        "        # Predict in the test-data make sure that you have loaded the model\n",
        "        prediction_probs = self.model.predict_generator(test_generator)\n",
        "        prediction_labels = np.argmax(prediction_probs, axis=1)\n",
        "        test_labels = test_generator.classes\n",
        "        \n",
        "        print('Class labels')\n",
        "        print(test_generator.class_indices)\n",
        "        classes = test_generator.class_indices.keys()\n",
        "        print('\\n')\n",
        "        # Plotting confusion matrix\n",
        "        acc = self.analyse_test_set(prediction_labels, test_labels, classes)\n",
        "        return acc\n",
        "        \n",
        "        \n",
        "    #  A function to define a batch for data-format\n",
        "    # similar to kaggle to generate predictions.csv\n",
        "    def test_format2(self, test_data_loc, BATCH_SIZE=16):\n",
        "        self.BATCH_SIZE = BATCH_SIZE\n",
        "        self.INPUT_SIZE = self.MODEL_INPUT_SIZE[:2]\n",
        "        images = os.listdir(test_data_loc)\n",
        "        df = pd.DataFrame()\n",
        "        df['image'] = images\n",
        "        df['dummy_class'] = ['' for image in images]\n",
        "        data_generator = ImageDataGenerator(\n",
        "            rescale=1. / 255,  # rescale the images to be float in range [0, 1]\n",
        "        )\n",
        "        test_generator = data_generator.flow_from_dataframe(\n",
        "            df,\n",
        "            directory=test_data_loc,\n",
        "            x_col='image',\n",
        "            y_col='dummy_class',\n",
        "            target_size = self.INPUT_SIZE,\n",
        "            batch_size = self.BATCH_SIZE,\n",
        "            color_mode = 'grayscale',\n",
        "            class_mode = None,\n",
        "            shuffle = False,\n",
        "        )\n",
        "        prediction_probs = self.model.predict_generator(test_generator)\n",
        "        prediction_labels = np.argmax(prediction_probs, axis=1)\n",
        "        df.drop(['image', 'dummy_class'], axis=1)\n",
        "        df['image'] = list(test_generator.filenames)\n",
        "        df['probability'] = list(prediction_probs)\n",
        "        df['label'] = list(prediction_labels)\n",
        "        return df\n",
        "\n",
        "    def analyse_test_set(self, predictions, labels, classes):\n",
        "        # Plotting confusion matrix\n",
        "        cm = confusion_matrix(predictions, labels)\n",
        "        df_cm = pd.DataFrame(cm, index=[i for i in classes], columns=[i for i in classes])\n",
        "        plt.figure(figsize=(20, 15))\n",
        "        plt.title('Test Confusion Matrix')\n",
        "        sns.heatmap(df_cm, annot=True)\n",
        "        plt.xlabel('True Labels')\n",
        "        plt.ylabel('Predicted Labels')\n",
        "\n",
        "        acc = ((predictions == labels).sum()) / len(labels) * 100\n",
        "        print('Test Accuracy of the model is %.2f%%' % (acc))\n",
        "        plt.show()\n",
        "        return acc"
      ],
      "id": "1c8a5c3c",
      "execution_count": 13,
      "outputs": []
    },
    {
      "cell_type": "markdown",
      "metadata": {
        "id": "fff375d9"
      },
      "source": [
        "Definig the basic set of parameters needed to define an object of class MIDAS-CNN objects and call its functions"
      ],
      "id": "fff375d9"
    },
    {
      "cell_type": "markdown",
      "metadata": {
        "id": "151af27a"
      },
      "source": [
        "Defining and compiling model-1 for training\n",
        "\n",
        "#### Defining the model & generators (to load the images in batches for training)\n",
        "\n",
        "First defining some basic parameters and then defining a small model with less number of parametrs because theoretically, a simple two-layer neural network with **2n+d parameters** is capable of perfectly fitting any dataset of **n samples** of **dimension d** ([Zhang et al., 2017](https://arxiv.org/abs/1611.03530)). So to answer your question, having such a large model can lead to overfitting. \n",
        "\n",
        "We have **~2000** samples to learn from (after using `10%` of `2480 data-points` for validation). So our **n is 2232** and our **d is 28$\\times$28 = 784** *(input-size)*, thus to be able to not overfit and train a model from scratch we should have **< 5248(~5000)** parameters in the network which will needs to be a small network which fairly less number of features in the `flat layer`. If we want to define more layers then we must add regularization of some sort to avoide overfitting (since this number of allowed parameters to avoide overfitting is way too less I will use **Dropout** regularization). In addition I will have some data-augmentations to generate artificical (sudo) data-points, these factors will allow me to have parameters in CNN and still avoide overfitting.\n",
        "\n",
        "Adding higher label-smmothing (default label-smmothing 0.1 for MIDAS-CNN) to the model-loss because of the possibel confusion that can occur in this dataset."
      ],
      "id": "151af27a"
    },
    {
      "cell_type": "markdown",
      "metadata": {
        "id": "7cc1178d"
      },
      "source": [
        "\n",
        "Training the model on MNIST dataset and then using this model."
      ],
      "id": "7cc1178d"
    },
    {
      "cell_type": "code",
      "metadata": {
        "id": "2b2bf160"
      },
      "source": [
        "N_CLASSES = 10\n",
        "MODEL_INPUT_SIZE = (28, 28, 1) \n",
        "INPUT_SIZE = (28, 28)\n",
        "BATCH_SIZE = 16\n",
        "VALIDATION_SPLIT = 0.1\n",
        "\n",
        "#Training specific parameters\n",
        "MODEL_LOC = './models'\n",
        "MODEL_WTS_FILE_NAME = 'CNN-2-a.h5'\n",
        "ES_PATIENCE = 30 # patience for early-stopping (in epochs)\n",
        "'''\n",
        "using a high early stopping crierion as the model is trained\n",
        "from scratch and we do not want it to stop early\n",
        "'''\n",
        "LR_PATIENCE=5 # patience to reduce the learning rate (in epochs)\n",
        "LR_REDUCTION_FACTOR = 0.2\n",
        "INITIAL_LR = 0.01\n",
        "EPOCHS=100"
      ],
      "id": "2b2bf160",
      "execution_count": 14,
      "outputs": []
    },
    {
      "cell_type": "markdown",
      "metadata": {
        "id": "b8af307d"
      },
      "source": [
        "Training on MNIST dataset and analysing its result."
      ],
      "id": "b8af307d"
    },
    {
      "cell_type": "code",
      "metadata": {
        "id": "52f51c85"
      },
      "source": [
        "N_CLASSES = 10\n",
        "MODEL_INPUT_SIZE = (28, 28, 1) \n",
        "INPUT_SIZE = (28, 28)\n",
        "BATCH_SIZE = 32\n",
        "VALIDATION_SPLIT = 0.1\n",
        "\n",
        "#Training specific parameters\n",
        "MODEL_LOC = './models'\n",
        "MODEL_WTS_FILE_NAME = 'CNN-subtask-2-b.h5'\n",
        "ES_PATIENCE = 10 # patience for early-stopping (in epochs)\n",
        "LR_PATIENCE=5 # patience to reduce the learning rate (in epochs)\n",
        "LR_REDUCTION_FACTOR = 0.2\n",
        "INITIAL_LR = 0.01\n",
        "EPOCHS=100"
      ],
      "id": "52f51c85",
      "execution_count": 15,
      "outputs": []
    },
    {
      "cell_type": "code",
      "metadata": {
        "colab": {
          "base_uri": "https://localhost:8080/"
        },
        "id": "376646d5",
        "outputId": "dc612885-0a4a-4780-b7f7-600092f5db24"
      },
      "source": [
        "task2b_CNN = MIDAS_CNN()\n",
        "task2b_CNN.compile_CNN(MODEL_INPUT_SIZE, N_CLASSES, INITIAL_LR)"
      ],
      "id": "376646d5",
      "execution_count": 16,
      "outputs": [
        {
          "output_type": "stream",
          "name": "stdout",
          "text": [
            "Model: \"sequential_2\"\n",
            "_________________________________________________________________\n",
            " Layer (type)                Output Shape              Param #   \n",
            "=================================================================\n",
            " conv2d_4 (Conv2D)           (None, 26, 26, 8)         80        \n",
            "                                                                 \n",
            " activation_4 (Activation)   (None, 26, 26, 8)         0         \n",
            "                                                                 \n",
            " max_pooling2d_4 (MaxPooling  (None, 13, 13, 8)        0         \n",
            " 2D)                                                             \n",
            "                                                                 \n",
            " conv2d_5 (Conv2D)           (None, 11, 11, 16)        1168      \n",
            "                                                                 \n",
            " activation_5 (Activation)   (None, 11, 11, 16)        0         \n",
            "                                                                 \n",
            " max_pooling2d_5 (MaxPooling  (None, 2, 2, 16)         0         \n",
            " 2D)                                                             \n",
            "                                                                 \n",
            " flatten_2 (Flatten)         (None, 64)                0         \n",
            "                                                                 \n",
            " final_dropout (Dropout)     (None, 64)                0         \n",
            "                                                                 \n",
            " classification (Dense)      (None, 10)                650       \n",
            "                                                                 \n",
            "=================================================================\n",
            "Total params: 1,898\n",
            "Trainable params: 1,898\n",
            "Non-trainable params: 0\n",
            "_________________________________________________________________\n"
          ]
        }
      ]
    },
    {
      "cell_type": "markdown",
      "metadata": {
        "id": "17e99932"
      },
      "source": [
        "#### Loading the MNIST data-set\n",
        "\n",
        "MNIST data is one of the data-sets avaialable in keras and we can directly download and load it from there.\n",
        "\n",
        "Loading training and testing MNIST data for its standard split"
      ],
      "id": "17e99932"
    },
    {
      "cell_type": "code",
      "metadata": {
        "id": "ece74bb4"
      },
      "source": [
        "# We can directly load the MNIST dataset in keras \n",
        "from tensorflow.keras.datasets import mnist\n",
        "(x_train, y_train), (x_test, y_test) = mnist.load_data()\n",
        "\n",
        "####-----REF - https://keras.io/examples/vision/mnist_convnet/ -----####\n",
        "# Scale images to the [0, 1] range\n",
        "x_train = x_train.astype(\"float32\") / 255\n",
        "x_test = x_test.astype(\"float32\") / 255\n",
        "\n",
        "# Make sure images have shape (28, 28, 1)\n",
        "x_train = np.expand_dims(x_train, -1)\n",
        "x_test = np.expand_dims(x_test, -1)\n",
        "\n",
        "# convert class vectors to binary class matrices\n",
        "y_train = tf.keras.utils.to_categorical(y_train, N_CLASSES)\n",
        "y_test = tf.keras.utils.to_categorical(y_test, N_CLASSES)"
      ],
      "id": "ece74bb4",
      "execution_count": 17,
      "outputs": []
    },
    {
      "cell_type": "markdown",
      "metadata": {
        "id": "053b060c"
      },
      "source": [
        "#### Training the model"
      ],
      "id": "053b060c"
    },
    {
      "cell_type": "code",
      "metadata": {
        "colab": {
          "base_uri": "https://localhost:8080/"
        },
        "id": "bf37e664",
        "outputId": "263f52bf-ec75-4ce2-d0bc-729d32925de9"
      },
      "source": [
        "# Training the model on the MNIST dataset\n",
        "\n",
        "#Defining callbacks\n",
        "task2b_CNN.define_callbacks(ES_PATIENCE, LR_PATIENCE, MODEL_WTS_FILE_NAME)\n",
        "# Loading the weights of task2a model in task2b for transfer-learning\n",
        "task2b_CNN.load_model(os.path.join(MODEL_LOC, 'CNN-subtask-2-a.h5'))\n",
        "# Training the model\n",
        "task2b_CNN.train_x_y(x_train, y_train, BATCH_SIZE, EPOCHS, VALIDATION_SPLIT)"
      ],
      "id": "bf37e664",
      "execution_count": 18,
      "outputs": [
        {
          "output_type": "stream",
          "name": "stdout",
          "text": [
            "Error in loading weights for the model\n",
            "Epoch 1/100\n",
            "1688/1688 [==============================] - 25s 14ms/step - loss: 1.2600 - accuracy: 0.6952 - val_loss: 0.7160 - val_accuracy: 0.9593 - lr: 0.0100\n",
            "Epoch 2/100\n",
            "1688/1688 [==============================] - 23s 13ms/step - loss: 0.9621 - accuracy: 0.8453 - val_loss: 0.6867 - val_accuracy: 0.9668 - lr: 0.0100\n",
            "Epoch 3/100\n",
            "1688/1688 [==============================] - 23s 13ms/step - loss: 0.9224 - accuracy: 0.8659 - val_loss: 0.6667 - val_accuracy: 0.9697 - lr: 0.0100\n",
            "Epoch 4/100\n",
            "1688/1688 [==============================] - 23s 14ms/step - loss: 0.9054 - accuracy: 0.8733 - val_loss: 0.6604 - val_accuracy: 0.9722 - lr: 0.0100\n",
            "Epoch 5/100\n",
            "1688/1688 [==============================] - 23s 14ms/step - loss: 0.8949 - accuracy: 0.8774 - val_loss: 0.6595 - val_accuracy: 0.9743 - lr: 0.0100\n",
            "Epoch 6/100\n",
            "1688/1688 [==============================] - 23s 14ms/step - loss: 0.8850 - accuracy: 0.8813 - val_loss: 0.6534 - val_accuracy: 0.9757 - lr: 0.0100\n",
            "Epoch 7/100\n",
            "1688/1688 [==============================] - 23s 14ms/step - loss: 0.8777 - accuracy: 0.8861 - val_loss: 0.6581 - val_accuracy: 0.9735 - lr: 0.0100\n",
            "Epoch 8/100\n",
            "1688/1688 [==============================] - 24s 14ms/step - loss: 0.8704 - accuracy: 0.8901 - val_loss: 0.6570 - val_accuracy: 0.9750 - lr: 0.0100\n",
            "Epoch 9/100\n",
            "1688/1688 [==============================] - 23s 14ms/step - loss: 0.8689 - accuracy: 0.8904 - val_loss: 0.6507 - val_accuracy: 0.9767 - lr: 0.0100\n",
            "Epoch 10/100\n",
            "1688/1688 [==============================] - 23s 14ms/step - loss: 0.8639 - accuracy: 0.8932 - val_loss: 0.6452 - val_accuracy: 0.9777 - lr: 0.0100\n",
            "Epoch 11/100\n",
            "1688/1688 [==============================] - 24s 14ms/step - loss: 0.8597 - accuracy: 0.8944 - val_loss: 0.6425 - val_accuracy: 0.9795 - lr: 0.0100\n",
            "Epoch 12/100\n",
            "1688/1688 [==============================] - 24s 14ms/step - loss: 0.8469 - accuracy: 0.9018 - val_loss: 0.6426 - val_accuracy: 0.9793 - lr: 0.0100\n",
            "Epoch 13/100\n",
            "1688/1688 [==============================] - 23s 13ms/step - loss: 0.8409 - accuracy: 0.9029 - val_loss: 0.6452 - val_accuracy: 0.9790 - lr: 0.0100\n",
            "Epoch 14/100\n",
            "1688/1688 [==============================] - 23s 13ms/step - loss: 0.8402 - accuracy: 0.9049 - val_loss: 0.6447 - val_accuracy: 0.9787 - lr: 0.0100\n",
            "Epoch 15/100\n",
            "1688/1688 [==============================] - 23s 14ms/step - loss: 0.8409 - accuracy: 0.9042 - val_loss: 0.6377 - val_accuracy: 0.9798 - lr: 0.0100\n",
            "Epoch 16/100\n",
            "1688/1688 [==============================] - 23s 14ms/step - loss: 0.8390 - accuracy: 0.9041 - val_loss: 0.6389 - val_accuracy: 0.9797 - lr: 0.0100\n",
            "Epoch 17/100\n",
            "1688/1688 [==============================] - 23s 14ms/step - loss: 0.8362 - accuracy: 0.9060 - val_loss: 0.6410 - val_accuracy: 0.9788 - lr: 0.0100\n",
            "Epoch 18/100\n",
            "1688/1688 [==============================] - 23s 14ms/step - loss: 0.8325 - accuracy: 0.9057 - val_loss: 0.6410 - val_accuracy: 0.9800 - lr: 0.0100\n",
            "Epoch 19/100\n",
            "1688/1688 [==============================] - 24s 14ms/step - loss: 0.8313 - accuracy: 0.9068 - val_loss: 0.6350 - val_accuracy: 0.9808 - lr: 0.0100\n",
            "Epoch 20/100\n",
            "1688/1688 [==============================] - 24s 14ms/step - loss: 0.8297 - accuracy: 0.9087 - val_loss: 0.6340 - val_accuracy: 0.9818 - lr: 0.0100\n",
            "Epoch 21/100\n",
            "1688/1688 [==============================] - 24s 14ms/step - loss: 0.8305 - accuracy: 0.9084 - val_loss: 0.6348 - val_accuracy: 0.9808 - lr: 0.0100\n",
            "Epoch 22/100\n",
            "1688/1688 [==============================] - 23s 14ms/step - loss: 0.8264 - accuracy: 0.9096 - val_loss: 0.6375 - val_accuracy: 0.9815 - lr: 0.0100\n",
            "Epoch 23/100\n",
            "1688/1688 [==============================] - 23s 14ms/step - loss: 0.8289 - accuracy: 0.9081 - val_loss: 0.6386 - val_accuracy: 0.9810 - lr: 0.0100\n",
            "Epoch 24/100\n",
            "1688/1688 [==============================] - 24s 14ms/step - loss: 0.8259 - accuracy: 0.9096 - val_loss: 0.6355 - val_accuracy: 0.9800 - lr: 0.0100\n",
            "Epoch 25/100\n",
            "1685/1688 [============================>.] - ETA: 0s - loss: 0.8279 - accuracy: 0.9096\n",
            "Epoch 00025: ReduceLROnPlateau reducing learning rate to 0.0019999999552965165.\n",
            "1688/1688 [==============================] - 24s 14ms/step - loss: 0.8278 - accuracy: 0.9096 - val_loss: 0.6347 - val_accuracy: 0.9813 - lr: 0.0100\n",
            "Epoch 26/100\n",
            "1688/1688 [==============================] - 24s 14ms/step - loss: 0.8169 - accuracy: 0.9149 - val_loss: 0.6323 - val_accuracy: 0.9820 - lr: 0.0020\n",
            "Epoch 27/100\n",
            "1688/1688 [==============================] - 23s 14ms/step - loss: 0.8159 - accuracy: 0.9151 - val_loss: 0.6312 - val_accuracy: 0.9818 - lr: 0.0020\n",
            "Epoch 28/100\n",
            "1688/1688 [==============================] - 23s 14ms/step - loss: 0.8142 - accuracy: 0.9155 - val_loss: 0.6314 - val_accuracy: 0.9830 - lr: 0.0020\n",
            "Epoch 29/100\n",
            "1688/1688 [==============================] - 23s 14ms/step - loss: 0.8168 - accuracy: 0.9139 - val_loss: 0.6315 - val_accuracy: 0.9817 - lr: 0.0020\n",
            "Epoch 30/100\n",
            "1688/1688 [==============================] - 23s 14ms/step - loss: 0.8153 - accuracy: 0.9137 - val_loss: 0.6305 - val_accuracy: 0.9818 - lr: 0.0020\n",
            "Epoch 31/100\n",
            "1688/1688 [==============================] - 23s 14ms/step - loss: 0.8129 - accuracy: 0.9160 - val_loss: 0.6319 - val_accuracy: 0.9825 - lr: 0.0020\n",
            "Epoch 32/100\n",
            "1688/1688 [==============================] - 23s 14ms/step - loss: 0.8150 - accuracy: 0.9153 - val_loss: 0.6297 - val_accuracy: 0.9825 - lr: 0.0020\n",
            "Epoch 33/100\n",
            "1688/1688 [==============================] - 23s 13ms/step - loss: 0.8153 - accuracy: 0.9144 - val_loss: 0.6311 - val_accuracy: 0.9813 - lr: 0.0020\n",
            "Epoch 34/100\n",
            "1688/1688 [==============================] - 23s 14ms/step - loss: 0.8129 - accuracy: 0.9158 - val_loss: 0.6311 - val_accuracy: 0.9813 - lr: 0.0020\n",
            "Epoch 35/100\n",
            "1688/1688 [==============================] - 23s 14ms/step - loss: 0.8127 - accuracy: 0.9170 - val_loss: 0.6317 - val_accuracy: 0.9818 - lr: 0.0020\n",
            "Epoch 36/100\n",
            "1688/1688 [==============================] - 23s 14ms/step - loss: 0.8154 - accuracy: 0.9141 - val_loss: 0.6310 - val_accuracy: 0.9820 - lr: 0.0020\n",
            "Epoch 37/100\n",
            "1687/1688 [============================>.] - ETA: 0s - loss: 0.8147 - accuracy: 0.9157\n",
            "Epoch 00037: ReduceLROnPlateau reducing learning rate to 0.0003999999724328518.\n",
            "1688/1688 [==============================] - 23s 14ms/step - loss: 0.8147 - accuracy: 0.9157 - val_loss: 0.6321 - val_accuracy: 0.9822 - lr: 0.0020\n",
            "Epoch 38/100\n",
            "1688/1688 [==============================] - 23s 14ms/step - loss: 0.8135 - accuracy: 0.9143 - val_loss: 0.6301 - val_accuracy: 0.9828 - lr: 4.0000e-04\n"
          ]
        }
      ]
    },
    {
      "cell_type": "markdown",
      "metadata": {
        "id": "f2bba632"
      },
      "source": [
        "#### Visualizing the training history\n",
        "\n",
        "Visualizing the training history (not using tensor-board to keep the code nice and clean)"
      ],
      "id": "f2bba632"
    },
    {
      "cell_type": "code",
      "metadata": {
        "colab": {
          "base_uri": "https://localhost:8080/",
          "height": 493
        },
        "id": "33f31325",
        "outputId": "ded16d01-49bc-4c79-9605-0a7b0c7596f1"
      },
      "source": [
        "task2b_CNN.training_history(title='MIDAS CNN - MNIST(TL) training history')"
      ],
      "id": "33f31325",
      "execution_count": 19,
      "outputs": [
        {
          "output_type": "display_data",
          "data": {
            "image/png": "[encoded data removed]",
            "text/plain": [
              "<Figure size 1080x504 with 2 Axes>"
            ]
          },
          "metadata": {
            "needs_background": "light"
          }
        }
      ]
    },
    {
      "cell_type": "markdown",
      "metadata": {
        "id": "e0fb90f9"
      },
      "source": [
        "#### Visualizing the test performance of the model\n",
        "\n",
        "Visualizing the model's performance on the MNIST test-set."
      ],
      "id": "e0fb90f9"
    },
    {
      "cell_type": "code",
      "metadata": {
        "colab": {
          "base_uri": "https://localhost:8080/",
          "height": 550
        },
        "id": "4d2af8db",
        "outputId": "61a965e3-a3a4-45df-967c-76689cae8ade"
      },
      "source": [
        "task2b_CNN.load_model()\n",
        "task2b_CNN.analyse_x_y(x_test, y_test)"
      ],
      "id": "4d2af8db",
      "execution_count": 20,
      "outputs": [
        {
          "output_type": "stream",
          "name": "stdout",
          "text": [
            "Class distribution in MNIST test set\n",
            "{0: 980, 1: 1135, 2: 1032, 3: 1010, 4: 982, 5: 892, 6: 958, 7: 1028, 8: 974, 9: 1009}\n",
            "\n",
            "\n",
            "Test Accuracy of the model is 97.88%\n"
          ]
        },
        {
          "output_type": "display_data",
          "data": {
            "image/png": "[encoded data removed]",
            "text/plain": [
              "<Figure size 720x504 with 2 Axes>"
            ]
          },
          "metadata": {
            "needs_background": "light"
          }
        }
      ]
    },
    {
      "cell_type": "markdown",
      "metadata": {
        "id": "2aaTKTTE11NI"
      },
      "source": [
        "Using the encoder of the model to identify how good the pattern that patients in the app are submitting is to the actual drawing."
      ],
      "id": "2aaTKTTE11NI"
    },
    {
      "cell_type": "code",
      "metadata": {
        "colab": {
          "base_uri": "https://localhost:8080/"
        },
        "id": "pmtji4z82B_-",
        "outputId": "43042600-185f-4dd8-8b9e-9cd529ae2540"
      },
      "source": [
        "model = task2b_CNN.return_model()\n",
        "print(model.layers)"
      ],
      "id": "pmtji4z82B_-",
      "execution_count": 21,
      "outputs": [
        {
          "output_type": "stream",
          "name": "stdout",
          "text": [
            "[<keras.layers.convolutional.Conv2D object at 0x7f482ad0c050>, <keras.layers.core.activation.Activation object at 0x7f48288fa9d0>, <keras.layers.pooling.MaxPooling2D object at 0x7f48288fadd0>, <keras.layers.convolutional.Conv2D object at 0x7f48288faf10>, <keras.layers.core.activation.Activation object at 0x7f482882a210>, <keras.layers.pooling.MaxPooling2D object at 0x7f482b7c0990>, <keras.layers.core.flatten.Flatten object at 0x7f48288a4d10>, <keras.layers.core.dropout.Dropout object at 0x7f48288ef590>, <keras.layers.core.dense.Dense object at 0x7f482ad1f890>]\n"
          ]
        }
      ]
    },
    {
      "cell_type": "markdown",
      "metadata": {
        "id": "eUJ3cOH3K84J"
      },
      "source": [
        "Getting output from layer."
      ],
      "id": "eUJ3cOH3K84J"
    },
    {
      "cell_type": "code",
      "metadata": {
        "id": "kROZ7K_-X3cd"
      },
      "source": [
        "# selecting the last third layer of the model\n",
        "layer = model.layers[-3]\n",
        "intermediate_layer_model = Model(inputs=model.input, outputs=layer.output)"
      ],
      "id": "kROZ7K_-X3cd",
      "execution_count": 26,
      "outputs": []
    },
    {
      "cell_type": "code",
      "metadata": {
        "id": "EvGn1QMgX32k"
      },
      "source": [
        "def encode_input(img_loc, model):\n",
        "  img_sz = 28\n",
        "  img = cv2.imread(img_loc, cv2.IMREAD_GRAYSCALE)\n",
        "  # rescaling image\n",
        "  img = cv2.resize(img, dsize=(img_sz, img_sz),\n",
        "                   interpolation=cv2.INTER_AREA)\n",
        "  img = img / 255\n",
        "  img = img.reshape(1, img_sz, img_sz, 1)\n",
        "  encoded_features = model.predict(img)\n",
        "  return encoded_features"
      ],
      "id": "EvGn1QMgX32k",
      "execution_count": 28,
      "outputs": []
    },
    {
      "cell_type": "code",
      "metadata": {
        "id": "pVbETOYrZd4D"
      },
      "source": [
        "# prepare the input for the model\n",
        "imgs = ['pattern.jpg', 'draw-1.jpg', 'draw-2.jpg', 'draw-3.jpg']\n",
        "features = []\n",
        "\n",
        "for img in imgs:\n",
        "  features.append(encode_input(img_loc=img, model=intermediate_layer_model))"
      ],
      "id": "pVbETOYrZd4D",
      "execution_count": 29,
      "outputs": []
    },
    {
      "cell_type": "code",
      "metadata": {
        "id": "121jsXHLcPtZ"
      },
      "source": [
        "from scipy import spatial\n",
        "\n",
        "similarities = []\n",
        "for feature in features[1:]:\n",
        "  similarities.append(1- spatial.distance.cosine(features[0], feature))"
      ],
      "id": "121jsXHLcPtZ",
      "execution_count": 37,
      "outputs": []
    },
    {
      "cell_type": "code",
      "metadata": {
        "colab": {
          "base_uri": "https://localhost:8080/"
        },
        "id": "H-r0dFGrcp8s",
        "outputId": "4eae3d2c-99aa-41fd-fab2-8c3c5263b3a1"
      },
      "source": [
        "similarities"
      ],
      "id": "H-r0dFGrcp8s",
      "execution_count": 44,
      "outputs": [
        {
          "output_type": "execute_result",
          "data": {
            "text/plain": [
              "[0.9236742258071899, 0.9318970441818237, 0.9780328869819641]"
            ]
          },
          "metadata": {},
          "execution_count": 44
        }
      ]
    },
    {
      "cell_type": "code",
      "metadata": {
        "colab": {
          "base_uri": "https://localhost:8080/",
          "height": 465
        },
        "id": "CcRVn1OUcr-m",
        "outputId": "a63f4244-6dc3-4f82-a203-88de4afab989"
      },
      "source": [
        "import matplotlib.pyplot as plt\n",
        "\n",
        "fig, ax = plt.subplots(nrows=2, ncols=2, figsize=(7, 7))\n",
        "ax[0][0].imshow(cv2.imread(imgs[0]))\n",
        "ax[0][0].set_title(f'Original Image, Similarity: 1')\n",
        "\n",
        "ax[0][1].imshow(cv2.imread(imgs[1]))\n",
        "ax[0][1].set_title(f'Original Image, Similarity: {round(similarities[0], 2)}')\n",
        "\n",
        "ax[1][0].imshow(cv2.imread(imgs[2]))\n",
        "ax[1][0].set_title(f'Drawing 1, Similarity: {round(similarities[1], 2)}')\n",
        "\n",
        "ax[1][1].imshow(cv2.imread(imgs[3]))\n",
        "ax[1][1].set_title(f'Drawing 3, Similarity: {round(similarities[2], 2)}')\n",
        "\n",
        "plt.suptitle('Cosine Similarity')\n",
        "plt.show()"
      ],
      "id": "CcRVn1OUcr-m",
      "execution_count": 50,
      "outputs": [
        {
          "output_type": "display_data",
          "data": {
            "image/png": "[encoded data removed]",
            "text/plain": [
              "<Figure size 504x504 with 4 Axes>"
            ]
          },
          "metadata": {
            "needs_background": "light"
          }
        }
      ]
    }
  ]
}